{
  "nbformat": 4,
  "nbformat_minor": 0,
  "metadata": {
    "kernelspec": {
      "display_name": "Python 3",
      "language": "python",
      "name": "python3"
    },
    "language_info": {
      "codemirror_mode": {
        "name": "ipython",
        "version": 3
      },
      "file_extension": ".py",
      "mimetype": "text/x-python",
      "name": "python",
      "nbconvert_exporter": "python",
      "pygments_lexer": "ipython3",
      "version": "3.8.5"
    },
    "colab": {
      "provenance": []
    }
  },
  "cells": [
    {
      "cell_type": "markdown",
      "metadata": {
        "id": "ImFnAOs5v8lW"
      },
      "source": [
        "# Controllable Sets, Invariant Sets, and MPC Feasibility and Stability"
      ]
    },
    {
      "cell_type": "markdown",
      "metadata": {
        "id": "rYigyn52v8lo"
      },
      "source": [
        "ME C231A, EECS C220B, UC Berkeley"
      ]
    },
    {
      "cell_type": "markdown",
      "metadata": {
        "id": "B3-HK8G9v8ls"
      },
      "source": [
        "***"
      ]
    },
    {
      "cell_type": "code",
      "metadata": {
        "id": "QxFDNqZwwRam",
        "colab": {
          "base_uri": "https://localhost:8080/"
        },
        "outputId": "d3fa436f-def6-4b0f-f1f5-472f8c5e5c57"
      },
      "source": [
        "# This cell is commented out because Polytope package, Pyomo and solvers are already installed on Docker image.\n",
        "# Please run this cell only if you are using Google Colab.\n",
        "\n",
        "# install required dependencies\n",
        "import sys\n",
        "IN_COLAB = 'google.colab' in sys.modules\n",
        "if IN_COLAB:\n",
        "  !pip install polytope\n",
        "  !pip install -q pyomo\n",
        "  !apt-get install -y -qq glpk-utils\n",
        "  !apt-get install -y -qq coinor-cbc\n",
        "  !wget -N -q \"https://ampl.com/dl/open/ipopt/ipopt-linux64.zip\"\n",
        "  !unzip -o -q ipopt-linux64"
      ],
      "execution_count": null,
      "outputs": [
        {
          "output_type": "stream",
          "name": "stdout",
          "text": [
            "Requirement already satisfied: polytope in /usr/local/lib/python3.10/dist-packages (0.2.4)\n",
            "Requirement already satisfied: networkx>=3.0 in /usr/local/lib/python3.10/dist-packages (from polytope) (3.2.1)\n",
            "Requirement already satisfied: numpy>=1.24.1 in /usr/local/lib/python3.10/dist-packages (from polytope) (1.26.2)\n",
            "Requirement already satisfied: scipy>=1.10.0 in /usr/local/lib/python3.10/dist-packages (from polytope) (1.11.3)\n",
            "[ipopt-linux64.zip]\n",
            "  End-of-central-directory signature not found.  Either this file is not\n",
            "  a zipfile, or it constitutes one disk of a multi-part archive.  In the\n",
            "  latter case the central directory and zipfile comment will be found on\n",
            "  the last disk(s) of this archive.\n",
            "unzip:  cannot find zipfile directory in one of ipopt-linux64 or\n",
            "        ipopt-linux64.zip, and cannot find ipopt-linux64.ZIP, period.\n"
          ]
        }
      ]
    },
    {
      "cell_type": "markdown",
      "metadata": {
        "id": "u6YgmDktv8lv"
      },
      "source": [
        "These notes serve the following purposes,\n",
        "\n",
        "1. Clarify the properties and computation of N-step controllable sets, positive invariant and control invariant sets.\n",
        "2. Show how invariant sets can be used to design persistently feasible and asymptotically stable MPC controllers.\n",
        "\n",
        "We will use numerical examples with a second order unstable system\n",
        "\\begin{align}\n",
        "     x(t+1)= Ax+Bu = \\begin{bmatrix} 1.5 & 0 \\\\ 1 & -1.5  \\end{bmatrix} x(t)+\n",
        "\\begin{bmatrix} 1 \\\\ 0 \\end{bmatrix} u(t). \\quad \\quad \\quad \\quad (1)\n",
        "\\end{align}\n",
        "\n",
        "subject to the input and state constraints\n",
        "\n",
        "\\begin{align}\n",
        "&u(t)\\in U=\\left\\{u~:~-5\\leq u\\leq 5\\right\\},~\\forall t\\geq 0 \\quad \\quad \\quad \\quad \\quad \\quad \\quad \\quad (2a)\\\\\n",
        "&x(t)\\in X=\\left\\{x~:~\\begin{bmatrix} -10\\\\-10 \\end{bmatrix}  \\leq x\\leq \\begin{bmatrix} 10\\\\10 \\end{bmatrix} \\right\\},~\\forall t\\geq 0. \\quad \\quad \\quad \\quad (2b)\n",
        "\\end{align}"
      ]
    },
    {
      "cell_type": "markdown",
      "metadata": {
        "id": "qN4BwFb4v8ly"
      },
      "source": [
        "***"
      ]
    },
    {
      "cell_type": "markdown",
      "metadata": {
        "id": "pQCclObAv8l1"
      },
      "source": [
        "# <font color=blue> 1  Controllable Sets </font>\n",
        "Recall our definition of $N$-Step Controllable Set $K_N(S)$.\n",
        "\n",
        "For a given target set $S\\subseteq X$, the $N$-step\n",
        "controllable set $K_N(X)$ of the system (1)\n",
        "subject to the constraints (2)\n",
        "is defined recursively as:\n",
        "\n",
        "\\begin{equation}\n",
        "K_j(S) \\triangleq \\textbf{Pre}(K_{j-1}(S))\\cap X,~~ K_{0}(S)=S,~~~~ j\\in\\{1,\\ldots,N\\}  \\quad \\quad (3)\n",
        "\\end{equation}\n",
        "\n",
        "All states $x_0$ of the system (1) belonging to the $N$-Step Controllable Set $K_N(S)$\n",
        "can be driven, by a suitable control sequence, to the target set $S$ in $N$ steps, while satisfying input and state constraints.\n",
        "\n",
        "Note that the computation of the set does not provide the input sequence driving the system states to $S$.\n",
        "\n",
        "## 1.1 How to compute $N$-step controllable sets?\n",
        "From the previous definition we have that a $1$-step controllable set to the set $S$ is computed as\n",
        "\\begin{equation}\n",
        "K_1=\\textbf{Pre}(S)\\cap X \\quad \\quad \\quad (4)\n",
        "\\end{equation}\n",
        "the $2$-step as\n",
        "\\begin{equation}\n",
        "K_2=\\textbf{Pre}(K_1)\\cap X \\quad \\quad \\quad (5)\n",
        "\\end{equation}\n",
        "and so on.\n",
        "The operation $\\textbf{Pre}(K_1)$ for linear systems subject to linear constraints is discussed in the lecture.\n",
        "We said that if\n",
        "\\begin{equation}\n",
        "    S = \\{ x \\;|\\;  Hx\\leq h \\}, \\quad U = \\{ u  \\;|\\;  H_u u\\leq h_u \\}, \\quad \\quad \\quad (6)\n",
        "\\end{equation}\n",
        "The Pre set is\n",
        "\\begin{equation}\n",
        "  {\\rm Pre}(S) = \\left\\{x \\in \\mathbb{R}^n \\,|\\, \\exists u \\in \\mathbb{R} \\;{\\rm s.t.}\\;\n",
        "                              \\begin{bmatrix}\n",
        "                                H A& H B\\\\\n",
        "                                0 &H_u\n",
        "                              \\end{bmatrix}\n",
        "   \\begin{pmatrix}\n",
        "     x \\\\\n",
        "     u \\\\\n",
        "   \\end{pmatrix}\n",
        "    \\leq \\begin{bmatrix}\n",
        "                                h \\\\\n",
        "                                h_u\n",
        "                              \\end{bmatrix}\\right\\}\n",
        "\\end{equation}\n",
        "\n",
        "which is the projection onto the $x$-space (with dimension $\\mathbb{R}^n$) of the polyhedron\n",
        "\\begin{equation}\n",
        "XU:= \\{\\begin{bmatrix}\n",
        "                                H A& H B\\\\\n",
        "                                0 &H_u\n",
        "                              \\end{bmatrix}\n",
        "   \\begin{pmatrix}\n",
        "     x \\\\\n",
        "     u \\\\\n",
        "   \\end{pmatrix}\n",
        "    \\leq \\begin{bmatrix}\n",
        "                                h \\\\\n",
        "                                h_u\n",
        "                              \\end{bmatrix}\\}.\n",
        "\\end{equation}"
      ]
    },
    {
      "cell_type": "code",
      "metadata": {
        "id": "5T4OLvUav8l4"
      },
      "source": [
        "import numpy as np\n",
        "import scipy.signal\n",
        "import scipy.linalg\n",
        "from scipy.integrate import solve_ivp\n",
        "import matplotlib.pyplot as plt\n",
        "import polytope as pt"
      ],
      "execution_count": null,
      "outputs": []
    },
    {
      "cell_type": "code",
      "metadata": {
        "id": "yqALsFI8v8mJ"
      },
      "source": [
        "# Unstable System\n",
        "# x(k+1) = A*x(k) + B*u(k)\n",
        "\n",
        "\n",
        "A = np.array([[1.5, 0],\n",
        "               [1, -1.5]])\n",
        "B = np.array([[1],\n",
        "               [0]])\n",
        "\n",
        "# constraints on inputs and states\n",
        "x1U = 10\n",
        "x2U = 10\n",
        "uU = 5\n",
        "\n",
        "# constraint sets represented as polyhedra\n",
        "# state constraint\n",
        "X = pt.Polytope(np.array([[1.0, 0],\n",
        "                          [0, 1.0],\n",
        "                          [-1, 0],\n",
        "                          [0, -1]]),\n",
        "                np.array([[x1U],\n",
        "                          [x2U],\n",
        "                          [x1U],\n",
        "                          [x2U]]))\n",
        "# input constraint\n",
        "U = pt.Polytope(np.array([1, -1]).reshape(2,1),\n",
        "                np.array([uU, uU]).reshape(2,1))"
      ],
      "execution_count": null,
      "outputs": []
    },
    {
      "cell_type": "code",
      "metadata": {
        "id": "DPqlULiOv8mW"
      },
      "source": [
        "# Helper Function:\n",
        "\n",
        "def minkowski_sum(X, Y):\n",
        "\n",
        "    # Minkowski sum between two polytopes based on\n",
        "    # vertex enumeration. So, it's not fast for the\n",
        "    # high dimensional polytopes with lots of vertices.\n",
        "    V_sum = []\n",
        "    if isinstance(X, pt.Polytope):\n",
        "        V1 = pt.extreme(X)\n",
        "    else:\n",
        "        # assuming vertices are in (N x d) shape. N # of vertices, d dimension\n",
        "        V1 = X\n",
        "\n",
        "    if isinstance(Y, pt.Polytope):\n",
        "        V2 = pt.extreme(Y)\n",
        "    else:\n",
        "        V2 = Y\n",
        "\n",
        "    for i in range(V1.shape[0]):\n",
        "        for j in range(V2.shape[0]):\n",
        "            V_sum.append(V1[i,:] + V2[j,:])\n",
        "    return pt.qhull(np.asarray(V_sum))\n"
      ],
      "execution_count": null,
      "outputs": []
    },
    {
      "cell_type": "code",
      "metadata": {
        "id": "Qw4Bxygzv8mi"
      },
      "source": [
        "# The operation Pre(S) results in the set of states which evolve into the target set S in one time step.\n",
        "def precursor(Xset, A, Uset=pt.Polytope(), B=np.array([])):\n",
        "        if not B.any():\n",
        "            return pt.Polytope(Xset.A @ A, Xset.b)\n",
        "        else:\n",
        "            tmp  = minkowski_sum( Xset, pt.extreme(Uset) @ -B.T )\n",
        "        return pt.Polytope(tmp.A @ A, tmp.b)"
      ],
      "execution_count": null,
      "outputs": []
    },
    {
      "cell_type": "markdown",
      "metadata": {
        "id": "8v1-Y1U3v8ms"
      },
      "source": [
        "So we can compute $N$-step controllable sets as"
      ]
    },
    {
      "cell_type": "code",
      "metadata": {
        "id": "lF8C-ylcv8mu",
        "colab": {
          "base_uri": "https://localhost:8080/",
          "height": 430
        },
        "outputId": "380903d2-a483-4914-94a7-72dda5f210f1"
      },
      "source": [
        "# target set\n",
        "\n",
        "# eps = 0.001\n",
        "# S = pt.box2poly([[-eps, eps], [-eps, eps]])\n",
        "\n",
        "S = X\n",
        "\n",
        "N = 6  # number of steps\n",
        "K = {}\n",
        "PreS = precursor(S, A, U, B)\n",
        "for j in range(N):\n",
        "    K[j]= PreS.intersect(X)\n",
        "    PreS = precursor(K[j], A, U, B)\n",
        "\n",
        "# Plotting\n",
        "plt.clf()\n",
        "plt.cla()\n",
        "plt.close('all')\n",
        "\n",
        "fig = plt.figure()\n",
        "ax = fig.add_subplot(1, 1, 1)\n",
        "\n",
        "K[0].plot(ax, color='m', alpha=0.1, linestyle='solid', linewidth=1, edgecolor=None)      # K_0 is equivalent to the target set S\n",
        "K[1].plot(ax, color='m', alpha=0.2, linestyle='solid', linewidth=1)                      # K_1 one step controllable set\n",
        "K[2].plot(ax, color='m', alpha=0.3, linestyle='solid', linewidth=1)                      # K_2 two step controllable set\n",
        "K[3].plot(ax, color='m', alpha=0.4, linestyle='solid', linewidth=1)                      # K_3\n",
        "K[4].plot(ax, color='m', alpha=0.5, linestyle='solid', linewidth=1)                      # K_4\n",
        "K[5].plot(ax, color='m', alpha=0.6, linestyle='solid', linewidth=1)                      # K_5\n",
        "ax.legend(['K0', 'K1', 'K2', 'K3', 'K4', 'K5'])\n",
        "\n",
        "ax.autoscale_view()\n",
        "# ax.axis('equal')\n",
        "plt.show()\n"
      ],
      "execution_count": null,
      "outputs": [
        {
          "output_type": "display_data",
          "data": {
            "text/plain": [
              "<Figure size 640x480 with 1 Axes>"
            ],
            "image/png": "[encoded data removed]"
          },
          "metadata": {}
        }
      ]
    },
    {
      "cell_type": "markdown",
      "metadata": {
        "id": "OUOyS8-uv8m5"
      },
      "source": [
        "***"
      ]
    },
    {
      "cell_type": "markdown",
      "metadata": {
        "id": "FrPpr8IKv8m7"
      },
      "source": [
        "## 1.2 Evolution of $N$-step controllable sets\n",
        "Execute the previous code for two different target sets.\n",
        "First use $S$ equal to the origin"
      ]
    },
    {
      "cell_type": "code",
      "metadata": {
        "id": "gGpyfhgFv8m8",
        "colab": {
          "base_uri": "https://localhost:8080/",
          "height": 435
        },
        "outputId": "857cbefd-9beb-4975-edaf-91ab1f3b29ca"
      },
      "source": [
        "# Since the Polytope package cannot handle non full-dimensional\n",
        "# polytopes, we need to define an epsilon box around zero in\n",
        "# order to run the code:\n",
        "\n",
        "eps = 0.001\n",
        "S = pt.box2poly([[-eps, eps], [-eps, eps]])\n",
        "\n",
        "N = 6  # number of steps\n",
        "K = {}\n",
        "PreS = precursor(S, A, U, B)\n",
        "for j in range(N):\n",
        "    K[j]= PreS.intersect(X)\n",
        "    PreS = precursor(K[j], A, U, B)\n",
        "\n",
        "# Plotting\n",
        "plt.clf()\n",
        "plt.cla()\n",
        "plt.close('all')\n",
        "\n",
        "fig = plt.figure()\n",
        "ax = fig.add_subplot(1, 1, 1)\n",
        "\n",
        "K[0].plot(ax, color='m', alpha=0.1, linestyle='solid', linewidth=1, edgecolor=None)      # K_0 is equivalent to the target set S\n",
        "K[1].plot(ax, color='m', alpha=0.2, linestyle='solid', linewidth=1)                      # K_1 one step controllable set\n",
        "K[2].plot(ax, color='m', alpha=0.3, linestyle='solid', linewidth=1)                      # K_2 two step controllable set\n",
        "K[3].plot(ax, color='m', alpha=0.4, linestyle='solid', linewidth=1)                      # K_3\n",
        "K[4].plot(ax, color='m', alpha=0.5, linestyle='solid', linewidth=1)                      # K_4\n",
        "K[5].plot(ax, color='m', alpha=0.6, linestyle='solid', linewidth=1)                      # K_5\n",
        "ax.legend(['K0', 'K1', 'K2', 'K3', 'K4', 'K5'])\n",
        "\n",
        "ax.autoscale_view()\n",
        "# ax.axis('equal')\n",
        "plt.show()"
      ],
      "execution_count": null,
      "outputs": [
        {
          "output_type": "display_data",
          "data": {
            "text/plain": [
              "<Figure size 640x480 with 1 Axes>"
            ],
            "image/png": "[encoded data removed]"
          },
          "metadata": {}
        }
      ]
    },
    {
      "cell_type": "markdown",
      "metadata": {
        "id": "bRfNheLuv8nC"
      },
      "source": [
        "Then, consider\n",
        "$S$ equal to the state constraints set $X$"
      ]
    },
    {
      "cell_type": "code",
      "metadata": {
        "id": "W1g555I-v8nD",
        "colab": {
          "base_uri": "https://localhost:8080/",
          "height": 430
        },
        "outputId": "fca2f2ec-b938-44fb-e135-46355bcfd25b"
      },
      "source": [
        "S = X\n",
        "\n",
        "N = 6  # number of steps\n",
        "K = {}\n",
        "PreS = precursor(S, A, U, B)\n",
        "for j in range(N):\n",
        "    K[j]= PreS.intersect(X)\n",
        "    PreS = precursor(K[j], A, U, B)\n",
        "\n",
        "# Plotting\n",
        "plt.clf()\n",
        "plt.cla()\n",
        "plt.close('all')\n",
        "\n",
        "fig = plt.figure()\n",
        "ax = fig.add_subplot(1, 1, 1)\n",
        "\n",
        "K[0].plot(ax, color='m', alpha=0.1, linestyle='solid', linewidth=1, edgecolor=None)      # K_0 is equivalent to the target set S\n",
        "K[1].plot(ax, color='m', alpha=0.2, linestyle='solid', linewidth=1)                      # K_1 one step controllable set\n",
        "K[2].plot(ax, color='m', alpha=0.3, linestyle='solid', linewidth=1)                      # K_2 two step controllable set\n",
        "K[3].plot(ax, color='m', alpha=0.4, linestyle='solid', linewidth=1)                      # K_3\n",
        "K[4].plot(ax, color='m', alpha=0.5, linestyle='solid', linewidth=1)                      # K_4\n",
        "K[5].plot(ax, color='m', alpha=0.6, linestyle='solid', linewidth=1)                      # K_5\n",
        "ax.legend(['K0', 'K1', 'K2', 'K3', 'K4', 'K5'])\n",
        "\n",
        "ax.autoscale_view()\n",
        "# ax.axis('equal')\n",
        "plt.show()"
      ],
      "execution_count": null,
      "outputs": [
        {
          "output_type": "display_data",
          "data": {
            "text/plain": [
              "<Figure size 640x480 with 1 Axes>"
            ],
            "image/png": "[encoded data removed]"
          },
          "metadata": {}
        }
      ]
    },
    {
      "cell_type": "markdown",
      "metadata": {
        "id": "7TgFVXqLv8nI"
      },
      "source": [
        "Observe how $K_j$ evolve in both cases and try to explain the observed behaviour."
      ]
    },
    {
      "cell_type": "markdown",
      "metadata": {
        "id": "H-TSn0nov8nJ"
      },
      "source": [
        "***"
      ]
    },
    {
      "cell_type": "markdown",
      "metadata": {
        "id": "mPIHf4oTv8nK"
      },
      "source": [
        "## 1.3 $N$-step controllable sets and MPC initial feasible set\n",
        "In the past lectures we studied Constrained Finite Time Optimal Control problem (CFTOC) of the form\n",
        "\\begin{equation}\n",
        " \\begin{aligned}\n",
        "     J^*_0(x(0))= & \\displaystyle{\\min_{{U_0}}} &\n",
        "\\displaystyle{J_0(x(0),{U_0})} \\\\\n",
        "     &\\text{subject to}  &  x_{k+1}=Ax_k+Bu_k,\\ k=0,\\ldots,N-1\\\\\n",
        "     &                &x_k\\in X,~u_k\\in U,\\ k=0,\\ldots,N-1\\\\\n",
        "     &                & x_N\\in X_f \\\\\n",
        "     &                & x_0=x(0)  &&(7)\\\\\n",
        " \\end{aligned}\n",
        "\\end{equation}\n",
        "\n",
        "and denoted with $X_0$ the set of initial states $x(0)$ for which the optimal control problem (7) is feasible:\n",
        "\n",
        "\\begin{equation}\n",
        "\\begin{aligned}\n",
        "X_0=&\\{ x_0\\in \\mathbb{R}^n |~\\exists (u_0,\\ldots,u_{N-1})~\\textrm{such that}~\n",
        "x_k\\in X,~u_k\\in U,\\\\\n",
        "&~k=0,\\ldots,N-1,~x_N\\in X_f,~\\textrm{where}~x_{k+1}=Ax_k+Bu_k\\} \\quad \\quad \\quad(8)\n",
        "\\end{aligned}\n",
        "\\end{equation}\n",
        "\n",
        "The set $X_0$ is nothing but the $N$-step controllable set to $X_f$ for system\n",
        "$x_{k+1}=Ax_k+Bu_k$ subject to constraints\n",
        "$x_k\\in X,~u_k\\in U$.\n",
        "The definition (8) is the \"BATCH\" version of  the the recursive definition of the $N$-step controllable set $K_N(X_f)$.\n",
        "\n",
        "You now know two approaches for computing $X_0$.\n",
        "\n",
        "1. One approach is to transform the CFTOC problem into the QP\n",
        "\\begin{equation}\n",
        "\\begin{aligned}\n",
        "     J^*_0(x(0)) &=& \\displaystyle{\\min_{U_0}} &  [U_0'~x(0)'] \\begin{bmatrix} H & F'\\\\F &Y \\end{bmatrix} [{U_0}'~x(0)']' \\quad (9)\\\\\n",
        "                 & & \\text{subject to}         ~              & G_0 U_0 \\leq w_0 + E_0x(0) \\quad \\quad \\quad \\quad \\quad (10)\n",
        "\\end{aligned}\n",
        "\\end{equation}\n",
        "\n",
        "\n",
        "and obtain $X_0$ as the projection of the polyhedron $[G_0~~E_0]\\begin{bmatrix}U_0 \\\\ x(0)\\end{bmatrix}\\leq w_0$\n",
        "on the $x(0)$ space.\n",
        "\n",
        "2. The other option is to compute the $X_0$\n",
        "as the $N$-step controllable set, $X_0=K_N(X_f)$."
      ]
    },
    {
      "cell_type": "markdown",
      "metadata": {
        "id": "DNRFULUbv8nL"
      },
      "source": [
        "***"
      ]
    },
    {
      "cell_type": "markdown",
      "metadata": {
        "id": "vgIqTTDuv8nM"
      },
      "source": [
        "# <font color=blue> 2 Invariant Sets </font>\n",
        "\n",
        "## 2.1 How to compute positive invariant sets\n",
        "\n",
        "A set $O \\subseteq S$ is said to be a positive invariant set for the autonomous system $x(t+1)=Ax(t)$ subject to the\n",
        "constraints $x(t) \\in S$, if\n",
        "\\begin{align}\n",
        "x(0)\\in O \\quad \\Rightarrow \\quad x(t)\\in\n",
        "    O,\\quad \\forall t\\in\\mathbb{N}^+\n",
        "\\end{align}\n",
        "We introduced a simple algorithm for computing the\n",
        "Maximal Positive Invariant Set $O_\\infty$ (the largest positive invariant set in $S$):\n",
        "\n",
        "1. LET $\\Omega_{0}= S$\n",
        "2. LET $\\Omega_{k+1}= \\textbf{Pre}(A,\\Omega_k)\\cap\\Omega_k$\n",
        "3. IF $\\Omega_{k+1}=\\Omega_k$ THEN $\\mathcal{O}_\\infty\\leftarrow\\Omega_{k+1}$\n",
        "4. ELSE GOTO 2\n",
        "\n",
        "Below you find the implementation. Notice that the $\\textbf{Pre}$ operator refers to the definition for autonomous systems."
      ]
    },
    {
      "cell_type": "code",
      "metadata": {
        "id": "AXiGMn9nv8nM",
        "colab": {
          "base_uri": "https://localhost:8080/",
          "height": 430
        },
        "outputId": "4e8065b0-f87f-4e44-cfd0-f399ff336895"
      },
      "source": [
        "def max_pos_inv(A, S):\n",
        "    maxIterations = 500\n",
        "    # initialization\n",
        "    Omega_i = S\n",
        "    for i in range(maxIterations):\n",
        "        # compute backward reachable set\n",
        "        P = precursor(Omega_i, A)\n",
        "        # intersect with the state constraints\n",
        "        P = pt.reduce(P).intersect(Omega_i)\n",
        "        if P == Omega_i:\n",
        "            Oinf = Omega_i\n",
        "            break\n",
        "        else:\n",
        "            Omega_i = P\n",
        "    if i == maxIterations:\n",
        "        converged = 0\n",
        "    else:\n",
        "        converged = 1\n",
        "    return Oinf, converged\n",
        "\n",
        "# Maximal Invariant Set Computation\n",
        "# first design a stabilizing control law:\n",
        "# Poles = np.array([0.1, 0.2])\n",
        "Poles = np.array([0.7, 0.8])\n",
        "full_state_feedback = scipy.signal.place_poles(A, B, Poles)\n",
        "K = full_state_feedback.gain_matrix\n",
        "# closed loop system\n",
        "Acl = A - B@K\n",
        "# remember to convert input constraints in state constraints\n",
        "S = X.intersect(pt.Polytope(U.A@ -K, U.b))\n",
        "Oinf, converged = max_pos_inv(Acl,S)\n",
        "\n",
        "fig, ax = plt.subplots()\n",
        "Oinf.plot(ax, color='g', alpha=0.5, linestyle='solid', linewidth=1, edgecolor=None)\n",
        "ax.autoscale_view()\n",
        "ax.axis('equal')\n",
        "plt.show()\n"
      ],
      "execution_count": null,
      "outputs": [
        {
          "output_type": "display_data",
          "data": {
            "text/plain": [
              "<Figure size 640x480 with 1 Axes>"
            ],
            "image/png": "[encoded data removed]"
          },
          "metadata": {}
        }
      ]
    },
    {
      "cell_type": "markdown",
      "metadata": {
        "id": "G8__yTnKv8nR"
      },
      "source": [
        "Notice that the above code computes\n",
        "the set $O_\\infty$ for system (1)\n",
        "when it is controlled by $u=-Kx$, subject to the constraints (2).\n",
        "\n",
        "Clearly the maximal positive invariant set $O_\\infty$ will be function of the feedback control law $K$.\n",
        "As commented in the code, DO NOT forget\n",
        "to convert input constraints in state constraints.\n",
        "\n",
        "\n",
        "Try to change the control law $K$ in the algorithm above and interpret the results.\n",
        "Try the controllers $\\texttt{K=scipy.signal.place_poles(A,B,[0.7 0.8])}$ and $\\texttt{K=scipy.signal.place_poles(A,B,[0.1 0.2])}$."
      ]
    },
    {
      "cell_type": "markdown",
      "metadata": {
        "id": "kIkybSW-v8nS"
      },
      "source": [
        "***"
      ]
    },
    {
      "cell_type": "markdown",
      "metadata": {
        "id": "KGJWVuRlv8nT"
      },
      "source": [
        "## 2.2 How to compute control invariant sets\n",
        "A set $C \\subseteq X$ is said to be a control invariant set if\n",
        "\\begin{align}\n",
        "x(t)\\in C \\quad \\Rightarrow \\quad\n",
        "\\exists u(t)\\in U ~\\textrm{such that}~  f(x(t),u(t))\\in\n",
        "    C,\\quad \\forall t\\in\\mathbb{N}^+\n",
        "\\end{align}"
      ]
    },
    {
      "cell_type": "markdown",
      "metadata": {
        "id": "AGH_0KVVv8nT"
      },
      "source": [
        "In class we introduced a simple algorithm for computing the\n",
        "Maximal Control Invariant Set $C_\\infty$ (the largest control invariant):\n",
        "\n",
        "1. LET $\\Omega_{0}= X$\n",
        "2. LET $\\Omega_{k+1}= \\textbf{Pre}(A,B,\\Omega_k)\\cap\\Omega_k$\n",
        "3. IF $\\Omega_{k+1}=\\Omega_k$ THEN $C_\\infty\\leftarrow\\Omega_{k+1}$\n",
        "4. ELSE GOTO 2\n",
        "\n",
        "\n",
        "Below you find the implementation."
      ]
    },
    {
      "cell_type": "code",
      "metadata": {
        "id": "6GLyk9Ndv8nW"
      },
      "source": [
        "def max_cntr_inv(A,B,X,U):\n",
        "    maxIterations = 500\n",
        "    # initialization\n",
        "    Omega0 = X\n",
        "    for i in range(maxIterations):\n",
        "        # compute backward reachable set\n",
        "        P = precursor(Omega0, A, U, B)\n",
        "        # intersect with the state constraints\n",
        "        P = pt.reduce(P).intersect(Omega0)\n",
        "        if P == Omega0:\n",
        "            Cinf = Omega0\n",
        "            break\n",
        "        else:\n",
        "            Omega0 = P\n",
        "    if i == maxIterations:\n",
        "        converged = 0\n",
        "    else:\n",
        "        converged = 1\n",
        "    return Cinf, converged\n",
        "\n",
        "# Maximal Control Invariant Set Computation\n",
        "Cinf, converged = max_cntr_inv(A, B, X, U)"
      ],
      "execution_count": null,
      "outputs": []
    },
    {
      "cell_type": "markdown",
      "metadata": {
        "id": "byvX_0zKv8na"
      },
      "source": [
        "The maximal control invariant set $C_\\infty$ does not depend on a specific feedback control law.\n",
        "Try to compare $C_\\infty$ with the $O_\\infty$ sets compute before. Interpret the results."
      ]
    },
    {
      "cell_type": "code",
      "metadata": {
        "id": "2r0bG_-vv8nb",
        "colab": {
          "base_uri": "https://localhost:8080/",
          "height": 431
        },
        "outputId": "49e83162-85c8-449f-f85d-d8fe507bb66d"
      },
      "source": [
        "fig, ax = plt.subplots()\n",
        "Oinf.plot(ax, color='m', alpha=0.5, linestyle='solid', linewidth=1, edgecolor=None)\n",
        "Cinf.plot(ax, color='g', alpha=0.2, linestyle='solid', linewidth=1, edgecolor=None)\n",
        "ax.autoscale_view()\n",
        "ax.axis('equal')\n",
        "ax.legend(['Oinf', 'Cinf'])\n",
        "plt.show()"
      ],
      "execution_count": null,
      "outputs": [
        {
          "output_type": "display_data",
          "data": {
            "text/plain": [
              "<Figure size 640x480 with 1 Axes>"
            ],
            "image/png": "[encoded data removed]"
          },
          "metadata": {}
        }
      ]
    },
    {
      "cell_type": "markdown",
      "metadata": {
        "id": "mWn-yJ4Av8ng"
      },
      "source": [
        "***"
      ]
    },
    {
      "cell_type": "markdown",
      "metadata": {
        "id": "yfwKXaJYv8nh"
      },
      "source": [
        "# <font color=blue> 3 Persistently Feasible and Stable MPC </font>\n",
        "\n",
        "Consider the problem of regulating to the\n",
        "origin the discrete-time linear time-invariant system\n",
        "\\begin{equation}\n",
        "    x(t+1)=Ax(t)+Bu(t), \\quad \\quad \\quad (11)\n",
        "\\end{equation}\n",
        "where $x(t) \\in \\mathbb{R}^n$, $u(t)\\in\\mathbb{R}^{m}$ are the state and input\n",
        "vectors, respectively, subject to the constraints\n",
        "\\begin{equation}\n",
        "    x(t)\\in X,~u(t)\\in U,~\\forall t\\geq0,  \\quad \\quad (12)\n",
        "\\end{equation}\n",
        "where the sets $X \\subseteq\\mathbb{R}^n$ and $U \\subseteq\\mathbb{R}^m$\n",
        "are polyhedra.\n",
        "MPC approaches such a constrained\n",
        "regulation problem in the following way. Assume that a full measurement\n",
        "or estimate of the state\n",
        "$x(t)$ is available at the current time $t$. Then the finite time\n",
        "optimal control problem\n",
        "\n",
        "\\begin{equation}\n",
        "{ \\begin{aligned}\n",
        "     J_t^*(x(t))= & \\min_{{U_{t->t+N|t}}} &\\displaystyle{p(x_{t+N|t}) + \\sum_{k=0}^{N-1}\n",
        "q(x_{t+k|t},u_{t+k|t})} \\\\\n",
        "     &\\text{subject to} &  x_{t+k+1|t}=Ax_{t+k|t}+Bu_{t+k|t},\\ k=0,\\ldots,N-1\\\\\n",
        "     &                &x_{t+k|t}\\in X,~u_{t+k|t}\\in U,\\ k=0,\\ldots,N-1\\\\\n",
        "     &                & x_{t+N|t}\\in {X_f} \\\\\n",
        "     &                & x_{t|t}=x(t)\\\\\n",
        "     &                & &\\quad \\quad \\quad  \\quad(13)\\\\\n",
        "  \\end{aligned}\n",
        "}\n",
        "\\end{equation}\n",
        "is solved at time $t$, where\n",
        "$U_{t->t+N|t}=\\{u_{t|t},\\ldots,u_{t+N-1|t}\\}$ and\n",
        "where $x_{t+k|t}$ denotes the state vector at time $t+k$ predicted at time $t$\n",
        "obtained by starting from the current state $x_{t|t}=x(t)$ and applying to the system model\n",
        "\n",
        "\\begin{equation}\n",
        "    x_{t+k+1|t}=Ax_{t+k|t}+Bu_{t+k|t}    \n",
        "\\end{equation}\n",
        "\n",
        "the input sequence $u_{t|t},\\ldots,u_{t+k-1|t}$.\n",
        "Often the symbol $x_{t+k|t}$ is read as `the state $x$ at time $t+k$ predicted at time $t$`.\n",
        "Similarly, $u_{t+k|t}$ is read as `the input $u$ at time $t+k$ computed at time $t$`.\n",
        "\n",
        "\n",
        "Let $U_{t->t+N|t}^*=\\{u^*_{t|t},\\ldots,u^*_{t+N-1|t}\\}$ be the optimal solution\n",
        "of (13) at time $t$ and $J_t^*(x(t))$ the\n",
        "corresponding value function. Then, the first element of $U_{t->t+N|t}^*$ is\n",
        "applied to system (11)\n",
        "\\begin{equation}\n",
        "    u(t)=u^*_{t|t}(x(t)).  \\quad \\quad (14)\n",
        "\\end{equation}\n",
        "The optimization problem (13) is repeated at time $t+1$,\n",
        "based on the new state $x_{t+1|t+1}=x(t+1)$, yielding a *moving* or\n",
        "*receding horizon* control strategy.\n",
        "\n",
        "Let $f_t:\\mathbb{R}^n\\rightarrow\\mathbb{R}^m$ denote the *receding horizon* control law\n",
        "that associates the optimal input $u^*_{t|t}$ to the current state $x(t)$,\n",
        "$f_t(x(t))=u^*_{t|t}(x(t))$. Then the closed-loop system obtained by\n",
        "controlling (11)\n",
        "with the RHC (13)-(14) is\n",
        "\\begin{equation}\n",
        "x(k+1)=Ax(k)+Bf_{k}(x(k)) \\triangleq f_{cl}(x(k),k),\\ k\\geq0. \\quad \\quad (15)\n",
        "\\end{equation}\n",
        "\n",
        "\n",
        "We also noticed that for linear time-invariant systems and time invariant cost and constraints, the control law (14)\n",
        "\\begin{equation}\n",
        "    u(t)=f_0(x(t))=u^*_{0}(x(t)) \\quad \\quad (16)\n",
        "\\end{equation}\n",
        "and closed-loop system (15)\n",
        "\\begin{equation}\n",
        "x(k+1)=Ax(k)+Bf_{0}(x(k)) = f_{cl}(x(k)),\\ k\\geq0 \\quad \\quad \\quad (17)\n",
        "\\end{equation}\n",
        "are time-invariant."
      ]
    },
    {
      "cell_type": "markdown",
      "metadata": {
        "id": "NvZMaQ7jv8ni"
      },
      "source": [
        "***"
      ]
    },
    {
      "cell_type": "markdown",
      "metadata": {
        "id": "xr4Nhfl2v8nj"
      },
      "source": [
        "## 3.1 MPC Main Theorem\n",
        "\n",
        "\n",
        "In class we introduced the two concepts of\n",
        "\n",
        "1. Persistent feasibility.\n",
        "2. Asymptotic stability of the origin in a region called `domain of attraction`.\n",
        "\n",
        "\n",
        "We also proved the following fundamental theorem:\n",
        "\n",
        "Assume that\n",
        "\n",
        "(A0) The stage cost $q(x,u)$ and terminal cost $p(x)$ are continuous and positive definite functions.\n",
        "\n",
        "(A1) The sets $X$, $X_f$ and $U$ contain  the origin in their interior and are closed.\n",
        "\n",
        "(A2) $X_f$ is control invariant, $X_f\\subseteq X$.\n",
        "\n",
        "(A3) $\\displaystyle{\\min_{v\\in U,~Ax+Bv\\in X_f}} (-p(x)+q(x,v)+p(Ax+Bv)) \\leq 0,~\\forall x\\in X_f$.\n",
        "\n",
        "Then,\n",
        "\n",
        "1. the closed-loop system (17)\n",
        "is persistently feasible in $X_0$,\n",
        "2. the origin of the closed-loop system (17)\n",
        "is asymptotically stable with domain of attraction $X_0$.\n",
        "\n",
        "\n",
        "Assumptions A0 and A1 are standard.\n",
        "We have shown that the simplest way to satisfy Assumptions\n",
        "A2 and A3 is to pick $X_f=0$ and any positive semi-definite terminal cost $p(x)=x'Px$. Next we are going to discuss other two options for selecting $X_f$ and $p(x)$."
      ]
    },
    {
      "cell_type": "markdown",
      "metadata": {
        "id": "bAsSFCh-v8nj"
      },
      "source": [
        "***"
      ]
    },
    {
      "cell_type": "markdown",
      "metadata": {
        "id": "1AimXzxsv8nk"
      },
      "source": [
        "## 3.2 Using LQR\n",
        "In this approach we design a stabilizing feedback controller for system (1) by using the infinite time, unconstrained linear quadratic regulator (LQR) $F_\\infty$ with the same weights $Q$ and $R$ of the desired MPC tuning ($\\texttt{Q=eye(2)}$ and $\\texttt{R=1}$)."
      ]
    },
    {
      "cell_type": "code",
      "metadata": {
        "id": "e-f25gmrv8nl"
      },
      "source": [
        "nx = np.size(A,0)  # number of states\n",
        "nu = np.size(B,1)  # number of inputs\n",
        "\n",
        "Q = np.eye(2)\n",
        "R = np.array([1])\n",
        "\n",
        "def dlqr(A, B, Q, R):\n",
        "    # solve Discrete Algebraic Riccatti equation\n",
        "    P = scipy.linalg.solve_discrete_are(A, B, Q, R)\n",
        "\n",
        "    # compute the LQR gain\n",
        "    K = scipy.linalg.inv(B.T @ P @ B + R) @ (B.T @ P @ A)\n",
        "\n",
        "    # stability check\n",
        "    eigVals, eigVecs = scipy.linalg.eig(A - B @ K)\n",
        "    return K, P\n",
        "\n",
        "Finf, Pinf = dlqr(A, B, Q, R)\n"
      ],
      "execution_count": null,
      "outputs": []
    },
    {
      "cell_type": "markdown",
      "metadata": {
        "id": "KOv_XRDHv8np"
      },
      "source": [
        "Then we follow the approach of Section 2.1 to compute the maximal positive invariant set $O_\\infty$ for system (1) when controlled by the LQR controller $u=-F_\\infty x$, subject to the constraints (2)."
      ]
    },
    {
      "cell_type": "code",
      "metadata": {
        "id": "_nvN2pzOv8nq"
      },
      "source": [
        "# closed loop system\n",
        "Acl = A - B@Finf\n",
        "\n",
        "# remeber to convert input constraints in state constraints\n",
        "S = X.intersect(pt.Polytope(U.A@ -Finf, U.b))\n",
        "Oinf, converged = max_pos_inv(Acl,S)"
      ],
      "execution_count": null,
      "outputs": []
    },
    {
      "cell_type": "markdown",
      "metadata": {
        "id": "H2sfHtrCv8nt"
      },
      "source": [
        "Finally, in the CFTOC problem (13) solved by the MPC at each step we use  $X_f=O_\\infty$ and $p(x)=x'P_\\infty x$ where $P_\\infty$ is LQR the infinite time cost. With this choice we satisfy assumption $A2$ (immediate to prove) and assumption $A3$  (proof next)."
      ]
    },
    {
      "cell_type": "code",
      "metadata": {
        "id": "0h5PzY8Jv8nv"
      },
      "source": [
        "# Compute the set of initial feasible states form MPC\n",
        "N = 3\n",
        "\n",
        "Kc = {}\n",
        "PreS = precursor(Oinf, A, U, B)   # Note that\n",
        "for j in range(N):\n",
        "    Kc[j]= PreS.intersect(X)\n",
        "    PreS = precursor(Kc[j], A, U, B)\n",
        "\n",
        "X0 = Kc[N-1]  # The initial feasible set X0 is equivalent to the N-step controllable set."
      ],
      "execution_count": null,
      "outputs": []
    },
    {
      "cell_type": "markdown",
      "metadata": {
        "id": "oQ6Qx4bFv8nz"
      },
      "source": [
        "***"
      ]
    },
    {
      "cell_type": "markdown",
      "metadata": {
        "id": "pKPr5morv8nz"
      },
      "source": [
        "## Simulation with MPC"
      ]
    },
    {
      "cell_type": "code",
      "metadata": {
        "id": "kWk-dv17v8n0",
        "colab": {
          "base_uri": "https://localhost:8080/",
          "height": 246
        },
        "outputId": "ef8f5b84-8544-478d-fd84-8a2d11109d14"
      },
      "source": [
        "# Setup the CFTOC\n",
        "\n",
        "import pyomo.environ as pyo\n",
        "\n",
        "Xf = Oinf\n",
        "Af = Xf.A\n",
        "bf = Xf.b\n",
        "\n",
        "Q = np.eye(2)\n",
        "R = np.array([1]).reshape(1,1)\n",
        "P = Pinf\n",
        "N = 3\n",
        "x0 = np.array([-6, -3])\n",
        "\n",
        "\n",
        "def solve_cftoc(A, B, P, Q, R, N, x0, x1U, x2U, uL, uU, bf, Af):\n",
        "\n",
        "    model = pyo.ConcreteModel()\n",
        "    model.N = N\n",
        "    model.nx = np.size(A, 0)\n",
        "    model.nu = np.size(B, 1)\n",
        "    model.nf = np.size(Af, 0)\n",
        "\n",
        "    # length of finite optimization problem:\n",
        "    model.tIDX = pyo.Set( initialize= range(model.N+1), ordered=True )\n",
        "    model.xIDX = pyo.Set( initialize= range(model.nx), ordered=True )\n",
        "    model.uIDX = pyo.Set( initialize= range(model.nu), ordered=True )\n",
        "\n",
        "    model.nfIDX = pyo.Set( initialize= range(model.nf), ordered=True )\n",
        "\n",
        "    # these are 2d arrays:\n",
        "    model.A = A\n",
        "    model.B = B\n",
        "    model.Q = Q\n",
        "    model.P = P\n",
        "    model.R = R\n",
        "    model.Af = Af\n",
        "    model.bf = bf\n",
        "\n",
        "    # Create state and input variables trajectory:\n",
        "    model.x = pyo.Var(model.xIDX, model.tIDX)\n",
        "    model.u = pyo.Var(model.uIDX, model.tIDX, bounds=(uL,uU))\n",
        "\n",
        "    #Objective:\n",
        "    def objective_rule(model):\n",
        "        costX = 0.0\n",
        "        costU = 0.0\n",
        "        costTerminal = 0.0\n",
        "        for t in model.tIDX:\n",
        "            for i in model.xIDX:\n",
        "                for j in model.xIDX:\n",
        "                    if t < model.N:\n",
        "                        costX += model.x[i, t] * model.Q[i, j] * model.x[j, t]\n",
        "        for t in model.tIDX:\n",
        "            for i in model.uIDX:\n",
        "                for j in model.uIDX:\n",
        "                    if t < model.N:\n",
        "                        costU += model.u[i, t] * model.R[i, j] * model.u[j, t]\n",
        "        for i in model.xIDX:\n",
        "            for j in model.xIDX:\n",
        "                costTerminal += model.x[i, model.N] * model.P[i, j] * model.x[j, model.N]\n",
        "        return costX + costU + costTerminal\n",
        "\n",
        "    model.cost = pyo.Objective(rule = objective_rule, sense = pyo.minimize)\n",
        "\n",
        "    # Constraints:\n",
        "    def equality_const_rule(model, i, t):\n",
        "        return model.x[i, t+1] - (sum(model.A[i, j] * model.x[j, t] for j in model.xIDX)\n",
        "                               +  sum(model.B[i, j] * model.u[j, t] for j in model.uIDX) ) == 0.0 if t < model.N else pyo.Constraint.Skip\n",
        "\n",
        "\n",
        "    model.equality_constraints = pyo.Constraint(model.xIDX, model.tIDX, rule=equality_const_rule)\n",
        "    model.init_const1 = pyo.Constraint(expr = model.x[0, 0] == x0[0])\n",
        "    model.init_const2 = pyo.Constraint(expr = model.x[1, 0] == x0[1])\n",
        "    model.state_limit1 = pyo.Constraint(model.tIDX, rule=lambda model, t: model.x[0, t] <= x1U\n",
        "                                   if t < N else pyo.Constraint.Skip)\n",
        "    model.state_limit2 = pyo.Constraint(model.tIDX, rule=lambda model, t: -x1U <= model.x[0, t]\n",
        "                                    if t < N else pyo.Constraint.Skip)\n",
        "    model.state_limit3 = pyo.Constraint(model.tIDX, rule=lambda model, t: model.x[1, t] <= x2U\n",
        "                                   if t < N else pyo.Constraint.Skip)\n",
        "    model.state_limit4 = pyo.Constraint(model.tIDX, rule=lambda model, t: -x2U <= model.x[1, t]\n",
        "                                    if t < N else pyo.Constraint.Skip)\n",
        "\n",
        "    def final_const_rule(model, i):\n",
        "        return sum(model.Af[i, j] * model.x[j, model.N] for j in model.xIDX) <= model.bf[i]\n",
        "\n",
        "    model.final_const = pyo.Constraint(model.nfIDX, rule=final_const_rule)\n",
        "\n",
        "    solver = pyo.SolverFactory('ipopt')\n",
        "    results = solver.solve(model)\n",
        "\n",
        "    if str(results.solver.termination_condition) == \"optimal\":\n",
        "        feas = True\n",
        "    else:\n",
        "        feas = False\n",
        "\n",
        "    xOpt = np.asarray([[model.x[i,t]() for i in model.xIDX] for t in model.tIDX]).T\n",
        "    uOpt = np.asarray([model.u[:,t]() for t in model.tIDX]).T\n",
        "\n",
        "    JOpt = model.cost()\n",
        "\n",
        "    return [model, feas, xOpt, uOpt, JOpt]\n",
        "\n",
        "[model, feas, xOpt, uOpt, JOpt] = solve_cftoc(A, B, P, Q, R, N, x0, x1U, x2U, -uU, uU, bf, Af)"
      ],
      "execution_count": null,
      "outputs": [
        {
          "output_type": "error",
          "ename": "NameError",
          "evalue": "ignored",
          "traceback": [
            "\u001b[0;31m---------------------------------------------------------------------------\u001b[0m",
            "\u001b[0;31mNameError\u001b[0m                                 Traceback (most recent call last)",
            "\u001b[0;32m<ipython-input-1-ab11e736f1fc>\u001b[0m in \u001b[0;36m<cell line: 5>\u001b[0;34m()\u001b[0m\n\u001b[1;32m      3\u001b[0m \u001b[0;32mimport\u001b[0m \u001b[0mpyomo\u001b[0m\u001b[0;34m.\u001b[0m\u001b[0menviron\u001b[0m \u001b[0;32mas\u001b[0m \u001b[0mpyo\u001b[0m\u001b[0;34m\u001b[0m\u001b[0;34m\u001b[0m\u001b[0m\n\u001b[1;32m      4\u001b[0m \u001b[0;34m\u001b[0m\u001b[0m\n\u001b[0;32m----> 5\u001b[0;31m \u001b[0mXf\u001b[0m \u001b[0;34m=\u001b[0m \u001b[0mOinf\u001b[0m\u001b[0;34m\u001b[0m\u001b[0;34m\u001b[0m\u001b[0m\n\u001b[0m\u001b[1;32m      6\u001b[0m \u001b[0mAf\u001b[0m \u001b[0;34m=\u001b[0m \u001b[0mXf\u001b[0m\u001b[0;34m.\u001b[0m\u001b[0mA\u001b[0m\u001b[0;34m\u001b[0m\u001b[0;34m\u001b[0m\u001b[0m\n\u001b[1;32m      7\u001b[0m \u001b[0mbf\u001b[0m \u001b[0;34m=\u001b[0m \u001b[0mXf\u001b[0m\u001b[0;34m.\u001b[0m\u001b[0mb\u001b[0m\u001b[0;34m\u001b[0m\u001b[0;34m\u001b[0m\u001b[0m\n",
            "\u001b[0;31mNameError\u001b[0m: name 'Oinf' is not defined"
          ]
        }
      ]
    },
    {
      "cell_type": "code",
      "metadata": {
        "id": "SREKGKSCv8n4"
      },
      "source": [
        "# Run closed loop with MPC\n",
        "\n",
        "# Setup the simulation with MPC controller\n",
        "\n",
        "nx = np.size(A, 0)\n",
        "nu = np.size(B, 1)\n",
        "\n",
        "M = 25   # Simulation steps\n",
        "xOpt = np.zeros((nx, M+1))\n",
        "uOpt = np.zeros((nu, M))\n",
        "xOpt[:, 0] = x0.reshape(nx, )\n",
        "\n",
        "xPred = np.zeros((nx, N+1, M))\n",
        "predErr = np.zeros((nx, M-N+1))\n",
        "\n",
        "feas = np.zeros((M, ), dtype=bool)\n",
        "xN = np.zeros((nx,1))\n",
        "\n",
        "fig = plt.figure(figsize=(9, 6))\n",
        "for t in range(M):\n",
        "    [model, feas[t], x, u, J] = solve_cftoc(A, B, P, Q, R, N, xOpt[:, t], x1U, x2U, -uU, uU, bf, Af)\n",
        "\n",
        "    if not feas[t]:\n",
        "        xOpt = []\n",
        "        uOpt = []\n",
        "        predErr = []\n",
        "        break\n",
        "    # Save open loop predictions\n",
        "    xPred[:, :, t] = x\n",
        "\n",
        "    # Save closed loop trajectory\n",
        "    # Note that the second column of x represents the optimal closed loop state\n",
        "    xOpt[:, t+1] = x[:, 1]\n",
        "    uOpt[:, t] = u[:, 0].reshape(nu, )\n",
        "\n",
        "    # Plot Open Loop\n",
        "    line1 = plt.plot(x[0,:], x[1,:], 'r--')\n",
        "\n",
        "# Plot Closed Loop\n",
        "line2 = plt.plot(xOpt[0, :], xOpt[1, :], 'bo-')\n",
        "plt.legend([line1[0], line2[0]], ['Open-loop', 'Closed-loop']);\n",
        "plt.xlabel('x1')\n",
        "plt.ylabel('x2')\n",
        "plt.axis('equal')"
      ],
      "execution_count": null,
      "outputs": []
    },
    {
      "cell_type": "markdown",
      "metadata": {
        "id": "V4-ljnSEv8n8"
      },
      "source": [
        "***"
      ]
    },
    {
      "cell_type": "markdown",
      "metadata": {
        "id": "vs2yYI2fv8n8"
      },
      "source": [
        "## Why with this design Assumption A3 is satisfied?\n",
        "\n",
        "Since the control law is fixed, Assumption A3 becomes\n",
        "\\begin{equation}\n",
        "-x'P_\\infty x+ x'Qx+x'F_\\infty' RF_\\infty x+(Ax-BF_\\infty x)'P_\\infty (Ax-BF_\\infty x)..\n",
        " \\leq 0,~\\forall x\\in X_f\n",
        "\\end{equation}\n",
        "which can be rewritten as:\n",
        "\\begin{align}\n",
        "x'(-P_\\infty+Q+F_\\infty' (B'P_\\infty B+R) F_\\infty +A'P_\\infty A-2F_\\infty' B'P_\\infty A )x\n",
        " \\leq 0,~\\forall x\\in X_f.\n",
        "\\end{align}\n",
        "Recall from LQR that\n",
        "\\begin{align}\n",
        "F_\\infty=(B'P_\\infty B+R)^{-1}B'P_\\infty A.\n",
        "\\end{align}\n",
        "Therefore Assumption A3 becomes\n",
        "\\begin{equation}\n",
        "\\begin{aligned}\n",
        "x'(-P_\\infty+Q+A'P_\\infty B (B'P_\\infty B+R)^{-1} (B'P_\\infty B+R)(B'P_\\infty B+R)^{-1}B'P_\\infty A+\\\\\n",
        "+ A'P_\\infty A-2A'P_\\infty B(B'P_\\infty B+R)^{-1}B'P_\\infty A   )x  \\leq 0,~\\forall x\\in X_f,\n",
        "\\end{aligned}\n",
        "\\end{equation}\n",
        "which can be simplified to\n",
        "\\begin{align}\n",
        "x'(-P_\\infty+Q+A'P_\\infty A-A'(P_\\infty B(B'P_\\infty B+R)^{-1}BP_\\infty)A)x  \\leq 0,\\ \\forall x\\in X_f.\n",
        "\\end{align}\n",
        "Note that the LQR cost $P_\\infty$ solves the Riccati Equation:\n",
        "\\begin{equation}\n",
        "P_\\infty = A'P_\\infty A + Q - A'P_\\infty B(B'P_\\infty B + R)^{-1} B' P_\\infty A.\n",
        "\\end{equation}\n",
        "Therefore we proved that\n",
        "\\begin{align}\n",
        "x'(-P_\\infty+Q+A'P_\\infty A-A'(P_\\infty B(B'P_\\infty B+R)^{-1}BP_\\infty)A)x  = 0,\\ \\forall x\\in \\mathcal{X}_f.\n",
        "\\end{align}\n"
      ]
    },
    {
      "cell_type": "markdown",
      "metadata": {
        "id": "gcXl_W9Tv8n9"
      },
      "source": [
        "***"
      ]
    },
    {
      "cell_type": "markdown",
      "metadata": {
        "id": "PZXd4p4Mv8n-"
      },
      "source": [
        "## 3.3  Using any stabilizing controller\n",
        "In general, instead of $F_\\infty$ we can choose any controller $F$ which stabilizes $A+BF$. For instance one could use a pole placement control design.\n",
        "\n",
        "With $v=Fx$ the assumption (A3) in the main MPC Theorem becomes\n",
        "\\begin{equation}\n",
        "-P+ (Q+F'RF)+(A+BF)'P(A+BF)  \\leq 0.\n",
        "\\label{eq:ch13_1235}\n",
        "\\end{equation}\n",
        "It is satisfied as an equality if we choose $P$ as a solution of the corresponding Lyapunov equation."
      ]
    },
    {
      "cell_type": "code",
      "metadata": {
        "id": "rPXnGYNSv8n_"
      },
      "source": [
        "# first design a stabilizing control law via pole placement\n",
        "\n",
        "\n",
        "Poles = np.array([0.1, 0.2])\n",
        "full_state_feedback = scipy.signal.place_poles(A, B, Poles)\n",
        "K = full_state_feedback.gain_matrix\n",
        "# closed loop system\n",
        "Acl = A - B@K\n",
        "# remember to convert input constraints in state constraints\n",
        "S = X.intersect(pt.Polytope(U.A@ -K, U.b))\n",
        "# terminal set\n",
        "Oinf, converged = max_pos_inv(Acl,S)\n",
        "# terminal cost\n",
        "P_terminal = scipy.linalg.solve_discrete_lyapunov(Acl.T, Q+K.T@R@K)\n",
        "# Acl.T is used based on the documentation of scipy.linalg.solve_discrete_lyapunov (The Lyapunov equation formulation is different from the above equation.)\n",
        "# Look at the documentation for more info: https://docs.scipy.org/doc/scipy/reference/generated/scipy.linalg.solve_discrete_lyapunov.html\n"
      ],
      "execution_count": null,
      "outputs": []
    },
    {
      "cell_type": "markdown",
      "metadata": {
        "id": "wiyT8UfJv8oD"
      },
      "source": [
        "If the open loop system (11) is asymptotically stable, then we may even select $F=0$. Note that depending on the choice of the controller the controlled invariant terminal region $X_f$ changes."
      ]
    },
    {
      "cell_type": "code",
      "metadata": {
        "id": "kxdteZAZ2JYh"
      },
      "source": [],
      "execution_count": null,
      "outputs": []
    }
  ]
}